{
  "nbformat": 4,
  "nbformat_minor": 0,
  "metadata": {
    "colab": {
      "name": "JuanSebastianDuenezAct2.ipynb",
      "provenance": [],
      "collapsed_sections": []
    },
    "kernelspec": {
      "name": "python3",
      "display_name": "Python 3"
    }
  },
  "cells": [
    {
      "cell_type": "markdown",
      "metadata": {
        "id": "N_ssaYOxzyZQ"
      },
      "source": [
        "# Entender el objetivo y el dataset"
      ]
    },
    {
      "cell_type": "code",
      "source": [
        "from google.colab import drive\n",
        "drive.mount('/content/drive')"
      ],
      "metadata": {
        "id": "xlwHrKCjmD2i",
        "colab": {
          "base_uri": "https://localhost:8080/"
        },
        "outputId": "1d91f901-d861-4e6f-f48e-b96b2da7a91a"
      },
      "execution_count": 1,
      "outputs": [
        {
          "output_type": "stream",
          "name": "stdout",
          "text": [
            "Mounted at /content/drive\n"
          ]
        }
      ]
    },
    {
      "cell_type": "markdown",
      "metadata": {
        "id": "GgrROMkZwq0i"
      },
      "source": [
        "**Algunos pasos utiles para la limpieza de datos**"
      ]
    },
    {
      "cell_type": "markdown",
      "metadata": {
        "id": "NpGNe6p4wKiz"
      },
      "source": [
        "\n",
        "Antes de usar algún algoritmo de aprendizaje automático o un modelo estadístico, siempre tenemos que limpiar los datos.\n",
        " Ningún modelo crea resultados significativos con datos \"sucios\".\n",
        "La limpieza o depuración de datos es el proceso de detectar y corregir (o eliminar) registros corruptos o inexactos de un conjunto de registros, tabla o base de datos y se refiere a la identificación de partes incompletas, incorrectas, inexactas o irrelevantes de los datos y luego reemplazar, modificar o eliminar los datos sucios.\n",
        "\n",
        " Ciertamente esta parte no es muy divertida y requiere mucho tiempo.\n"
      ]
    },
    {
      "cell_type": "markdown",
      "metadata": {
        "id": "OIkQEm-jwyVo"
      },
      "source": [
        "En el estado de Victoria, Australia se presentan accidentes de carros constantemente, el departamento de transporte en Victoria mantiene un record de cada accidente y este es guardado en una base de datos que se encuentra en la página web de Data en victoria y es pública para el uso de quien la necesite.\n",
        "\n",
        "El objetivo es a partir del uso de los datos adecuados buscar en este Dataset los lugares donde se presentan más accidentes de carros y  así permitir al Departamento de Transporte de Victoria generar soluciones potenciales para evitar este tipo de accidentes en las carreteras. De este modo esta información será útil para la planeación de reformas en la carretera y así evitar los accidentes en los lugares que han sido recurrentes o implementar cierta señalización en esos lugares. \n",
        "\n",
        "El tipo de salida en este proceso KDD sería un pronóstico. Para lo cual podríamos citar ciertas aplicaciones:\n",
        "\n",
        "*   La búsqueda del estado del conductor en el momento del accidente, si se encontraba sobrio o alcoholizado\n",
        "*   La selección de los días donde son más incidentes los accidentes en carretera.\n",
        "*   La búsqueda de los lugares donde hay una cantidad más grande de accidentes.\n",
        "*   La búsqueda de cuantos accidentes fueron fatales\n"
      ]
    },
    {
      "cell_type": "code",
      "metadata": {
        "id": "DK9n4g18wE3U"
      },
      "source": [
        "# import packages\n",
        "import pandas as pd\n",
        "import numpy as np\n",
        "import seaborn as sns\n",
        "import datetime\n",
        "\n",
        "import matplotlib.pyplot as plt\n",
        "import matplotlib.mlab as mlab\n",
        "import matplotlib\n",
        "plt.style.use('ggplot')\n",
        "from matplotlib.pyplot import figure\n",
        "\n",
        "%matplotlib inline\n",
        "matplotlib.rcParams['figure.figsize'] = (12,8)\n",
        "\n",
        "pd.options.mode.chained_assignment = None\n"
      ],
      "execution_count": 2,
      "outputs": []
    },
    {
      "cell_type": "markdown",
      "metadata": {
        "id": "DrHVXLxPNHeM"
      },
      "source": [
        "# Informacion adicional\n",
        "\n",
        "https://realpython.com/python-data-cleaning-numpy-pandas/\n",
        "\n"
      ]
    },
    {
      "cell_type": "markdown",
      "metadata": {
        "id": "HCracfLSxLyj"
      },
      "source": [
        "Leemos el fichero de fuente de datos, que previamente hemos importado al libro"
      ]
    },
    {
      "cell_type": "code",
      "metadata": {
        "id": "QMbq7LOCxRPt"
      },
      "source": [
        "# read the data\n",
        "df = pd.read_csv('Road_Crashes_for_five_Years_Victoria.csv')\n"
      ],
      "execution_count": 24,
      "outputs": []
    },
    {
      "cell_type": "markdown",
      "metadata": {
        "id": "f-xJxyJex6L2"
      },
      "source": [
        "Comprobamos los tipos y la cantidad de instacias que tenemos"
      ]
    },
    {
      "cell_type": "code",
      "metadata": {
        "colab": {
          "base_uri": "https://localhost:8080/"
        },
        "id": "JmU3OYVFx-T5",
        "outputId": "dfba1146-f93d-4a69-db6a-9b0ffa826727"
      },
      "source": [
        "# shape and data types of the data\n",
        "print(df.shape)\n",
        "print(df.dtypes)"
      ],
      "execution_count": 25,
      "outputs": [
        {
          "output_type": "stream",
          "name": "stdout",
          "text": [
            "(75320, 65)\n",
            "X                float64\n",
            "Y                float64\n",
            "OBJECTID           int64\n",
            "ACCIDENT_NO       object\n",
            "ABS_CODE          object\n",
            "                  ...   \n",
            "RMA               object\n",
            "RMA_ALL           object\n",
            "DIVIDED           object\n",
            "DIVIDED_ALL       object\n",
            "STAT_DIV_NAME     object\n",
            "Length: 65, dtype: object\n"
          ]
        }
      ]
    },
    {
      "cell_type": "markdown",
      "metadata": {
        "id": "hZONR0JHyAay"
      },
      "source": [
        "Comprobamos de todas las variables, que subconjunto son númericas. (Potencialmente no tenemos que cambiar nada de ellas)"
      ]
    },
    {
      "cell_type": "code",
      "metadata": {
        "colab": {
          "base_uri": "https://localhost:8080/"
        },
        "id": "w03fWcWVyCss",
        "outputId": "38895439-2238-426f-e6d2-82bf02d3fd6e"
      },
      "source": [
        "df_numeric = df.select_dtypes(include=[np.number])\n",
        "numeric_cols = df_numeric.columns.values\n",
        "print(numeric_cols)"
      ],
      "execution_count": 26,
      "outputs": [
        {
          "output_type": "stream",
          "name": "stdout",
          "text": [
            "['X' 'Y' 'OBJECTID' 'NODE_ID' 'LONGITUDE' 'LATITUDE' 'VICGRID_X'\n",
            " 'VICGRID_Y' 'TOTAL_PERSONS' 'INJ_OR_FATAL' 'FATALITY' 'SERIOUSINJURY'\n",
            " 'OTHERINJURY' 'NONINJURED' 'MALES' 'FEMALES' 'BICYCLIST' 'PASSENGER'\n",
            " 'DRIVER' 'PEDESTRIAN' 'PILLION' 'MOTORIST' 'UNKNOWN' 'PED_CYCLIST_5_12'\n",
            " 'PED_CYCLIST_13_18' 'OLD_PEDESTRIAN' 'OLD_DRIVER' 'YOUNG_DRIVER'\n",
            " 'UNLICENCSED' 'NO_OF_VEHICLES' 'HEAVYVEHICLE' 'PASSENGERVEHICLE'\n",
            " 'MOTORCYCLE' 'PUBLICVEHICLE']\n"
          ]
        }
      ]
    },
    {
      "cell_type": "markdown",
      "metadata": {
        "id": "PeLjBeO7yOSn"
      },
      "source": [
        "Hacemos lo mismo con las variables que no son númericas"
      ]
    },
    {
      "cell_type": "code",
      "metadata": {
        "colab": {
          "base_uri": "https://localhost:8080/"
        },
        "id": "yvWXAs9DyTti",
        "outputId": "424c51e1-73fe-4db3-f916-e766a1470ae6"
      },
      "source": [
        "# select non numeric columns\n",
        "df_non_numeric = df.select_dtypes(exclude=[np.number])\n",
        "non_numeric_cols = df_non_numeric.columns.values\n",
        "print(non_numeric_cols)\n"
      ],
      "execution_count": 27,
      "outputs": [
        {
          "output_type": "stream",
          "name": "stdout",
          "text": [
            "['ACCIDENT_NO' 'ABS_CODE' 'ACCIDENT_STATUS' 'ACCIDENT_DATE'\n",
            " 'ACCIDENT_TIME' 'ALCOHOLTIME' 'ACCIDENT_TYPE' 'DAY_OF_WEEK' 'DCA_CODE'\n",
            " 'HIT_RUN_FLAG' 'LIGHT_CONDITION' 'POLICE_ATTEND' 'ROAD_GEOMETRY'\n",
            " 'SEVERITY' 'SPEED_ZONE' 'RUN_OFFROAD' 'NODE_TYPE' 'LGA_NAME'\n",
            " 'REGION_NAME' 'ALCOHOL_RELATED' 'DEG_URBAN_NAME' 'DEG_URBAN_ALL'\n",
            " 'LGA_NAME_ALL' 'REGION_NAME_ALL' 'SRNS' 'SRNS_ALL' 'RMA' 'RMA_ALL'\n",
            " 'DIVIDED' 'DIVIDED_ALL' 'STAT_DIV_NAME']\n"
          ]
        }
      ]
    },
    {
      "cell_type": "markdown",
      "metadata": {
        "id": "l3m-Yyglyo3s"
      },
      "source": [
        "De estos resultados, aprendemos que el conjunto de datos tiene **75320** filas y **65** columnas. También identificamos si las características son variables numéricas o categóricas. Todas ellas son información útil.\n",
        "Ahora podemos revisar la lista de tipos de datos \"sucios\" y arreglarlos uno por uno.\n",
        "\n"
      ]
    },
    {
      "cell_type": "markdown",
      "metadata": {
        "id": "cpELLIqCzzV7"
      },
      "source": [
        "\n",
        "\n",
        "# Missing values"
      ]
    },
    {
      "cell_type": "markdown",
      "metadata": {
        "id": "R4DaKYF40he7"
      },
      "source": [
        "Tratar con datos/valores perdidos es una de las partes más difíciles pero comunes de la limpieza de datos. \n",
        "Mientras que muchos modelos pueden vivir con otros problemas de los datos, la mayoría de los modelos no aceptan datos faltantes."
      ]
    },
    {
      "cell_type": "markdown",
      "metadata": {
        "id": "07As1t_K0vDN"
      },
      "source": [
        "**¿Cómo averiguarlo?**\n",
        "\n",
        "\n",
        "Para este dataset vamos a usar dos técnicas para aprender más sobre los datos que faltan en nuestro conjunto de datos."
      ]
    },
    {
      "cell_type": "markdown",
      "metadata": {
        "id": "TZo_PHie0xhZ"
      },
      "source": [
        "## Missing Data Heatmap\n",
        "Cuando hay un número menor de características, podemos visualizar los datos que faltan a través del mapa de calor."
      ]
    },
    {
      "cell_type": "code",
      "metadata": {
        "colab": {
          "base_uri": "https://localhost:8080/",
          "height": 595
        },
        "id": "u3AAS52s05tS",
        "outputId": "4ba71710-540f-48ce-89b0-3180ec2f0818"
      },
      "source": [
        "cols = df.columns[1:50] # first 30 columns\n",
        "colours = ['#000099', '#ffff00'] # specify the colours - yellow is missing. blue is not missing.\n",
        "sns.heatmap(df[cols].isnull(), cmap=sns.color_palette(colours))"
      ],
      "execution_count": 28,
      "outputs": [
        {
          "output_type": "execute_result",
          "data": {
            "text/plain": [
              "<matplotlib.axes._subplots.AxesSubplot at 0x7f58fbeb9e90>"
            ]
          },
          "metadata": {},
          "execution_count": 28
        },
        {
          "output_type": "display_data",
          "data": {
            "image/png": "[encoded data removed]",
            "text/plain": [
              "<Figure size 864x576 with 2 Axes>"
            ]
          },
          "metadata": {
            "needs_background": "light"
          }
        }
      ]
    },
    {
      "cell_type": "markdown",
      "metadata": {
        "id": "It_6EjWQ1DjE"
      },
      "source": [
        " \n",
        "El eje horizontal muestra el nombre del atributo de entrada; el eje vertical muestra el número de observaciones/filas; el color amarillo representa los datos que faltan, mientras que el color azul, en caso contrario.\n",
        "Por ejemplo, vemos que la característica *DAY_OF_WEEK* tiene valores perdidos en ciertas filas. Mientras que la característica *NODE_TYPE* sólo tiene pequeños valores perdidos alrededor de la fila 29784.\n",
        "\n"
      ]
    },
    {
      "cell_type": "markdown",
      "metadata": {
        "id": "QT777txB1at1"
      },
      "source": [
        "## Missing Data Percentage List\n",
        "Cuando hay muchas características en el conjunto de datos, podemos hacer una lista de los % de datos que faltan para cada característica.\n",
        "\n",
        "Puede ser mucho más útil que el anterior cuando tienes muchas características y muchos valores"
      ]
    },
    {
      "cell_type": "code",
      "metadata": {
        "colab": {
          "base_uri": "https://localhost:8080/"
        },
        "id": "CTvkUXS31pd3",
        "outputId": "7ab28dcc-aa5d-4a0a-baf2-ef9437b2c4b9"
      },
      "source": [
        "# if it's a larger dataset and the visualization takes too long can do this.\n",
        "# % of missing.\n",
        "for col in df.columns:\n",
        "    pct_missing = np.mean(df[col].isnull())\n",
        "    print('{} - {}%'.format(col, round(pct_missing*100)))\n"
      ],
      "execution_count": 8,
      "outputs": [
        {
          "output_type": "stream",
          "name": "stdout",
          "text": [
            "X - 0%\n",
            "Y - 0%\n",
            "OBJECTID - 0%\n",
            "ACCIDENT_NO - 0%\n",
            "ABS_CODE - 0%\n",
            "ACCIDENT_STATUS - 0%\n",
            "ACCIDENT_DATE - 0%\n",
            "ACCIDENT_TIME - 0%\n",
            "ALCOHOLTIME - 0%\n",
            "ACCIDENT_TYPE - 0%\n",
            "DAY_OF_WEEK - 4%\n",
            "DCA_CODE - 0%\n",
            "HIT_RUN_FLAG - 0%\n",
            "LIGHT_CONDITION - 0%\n",
            "POLICE_ATTEND - 0%\n",
            "ROAD_GEOMETRY - 0%\n",
            "SEVERITY - 0%\n",
            "SPEED_ZONE - 0%\n",
            "RUN_OFFROAD - 0%\n",
            "NODE_ID - 0%\n",
            "LONGITUDE - 0%\n",
            "LATITUDE - 0%\n",
            "NODE_TYPE - 0%\n",
            "LGA_NAME - 0%\n",
            "REGION_NAME - 0%\n",
            "VICGRID_X - 0%\n",
            "VICGRID_Y - 0%\n",
            "TOTAL_PERSONS - 0%\n",
            "INJ_OR_FATAL - 0%\n",
            "FATALITY - 0%\n",
            "SERIOUSINJURY - 0%\n",
            "OTHERINJURY - 0%\n",
            "NONINJURED - 0%\n",
            "MALES - 0%\n",
            "FEMALES - 0%\n",
            "BICYCLIST - 0%\n",
            "PASSENGER - 0%\n",
            "DRIVER - 0%\n",
            "PEDESTRIAN - 0%\n",
            "PILLION - 0%\n",
            "MOTORIST - 0%\n",
            "UNKNOWN - 0%\n",
            "PED_CYCLIST_5_12 - 0%\n",
            "PED_CYCLIST_13_18 - 0%\n",
            "OLD_PEDESTRIAN - 0%\n",
            "OLD_DRIVER - 0%\n",
            "YOUNG_DRIVER - 0%\n",
            "ALCOHOL_RELATED - 0%\n",
            "UNLICENCSED - 0%\n",
            "NO_OF_VEHICLES - 0%\n",
            "HEAVYVEHICLE - 0%\n",
            "PASSENGERVEHICLE - 0%\n",
            "MOTORCYCLE - 0%\n",
            "PUBLICVEHICLE - 0%\n",
            "DEG_URBAN_NAME - 0%\n",
            "DEG_URBAN_ALL - 0%\n",
            "LGA_NAME_ALL - 0%\n",
            "REGION_NAME_ALL - 0%\n",
            "SRNS - 70%\n",
            "SRNS_ALL - 70%\n",
            "RMA - 7%\n",
            "RMA_ALL - 7%\n",
            "DIVIDED - 7%\n",
            "DIVIDED_ALL - 7%\n",
            "STAT_DIV_NAME - 0%\n"
          ]
        }
      ]
    },
    {
      "cell_type": "markdown",
      "metadata": {
        "id": "jN1E8VMa18vp"
      },
      "source": [
        "Esto produce una lista abajo que muestra el porcentaje de valores faltantes para cada una de las características.\n",
        "Específicamente, vemos que a la característica *SRNS* y *SRNS_ALL* le falta el 70%, mientras que  *RMA*, *RMA_ALL*, *DIVIDED*, *DIVIDED_ALL* le falta el 7% y el ultimo valor *DAY_OF_WEEK* solo le falta el 4%.\n",
        " Esta lista es un resumen útil que puede complementar la visualización del mapa de calor."
      ]
    },
    {
      "cell_type": "markdown",
      "metadata": {
        "id": "LAPmReizCWDx"
      },
      "source": [
        "## Dejar o no dejar la característica\n",
        "\n",
        "Similar a la Solución 1, sólo lo hacemos cuando estamos seguros de que esta característica no proporciona información útil.\n",
        "\n",
        "\n",
        "Por ejemplo, de la lista de % de datos faltantes, notamos que *SRNS*, *SRNS_ALL* tiene un alto porcentaje de valor faltante del 70%. Podemos eliminar toda la característica."
      ]
    },
    {
      "cell_type": "code",
      "metadata": {
        "colab": {
          "base_uri": "https://localhost:8080/"
        },
        "id": "lfH8SRksCkvC",
        "outputId": "87c2860a-3471-4c49-f249-31e6dbf95669"
      },
      "source": [
        "\n",
        "cols_to_drop = ['SRNS','SRNS_ALL']\n",
        "df_less_hos_beds_raion = df.drop(cols_to_drop, axis=1)\n",
        "print(df_less_hos_beds_raion.shape)"
      ],
      "execution_count": 9,
      "outputs": [
        {
          "output_type": "stream",
          "name": "stdout",
          "text": [
            "(75320, 63)\n"
          ]
        }
      ]
    },
    {
      "cell_type": "markdown",
      "metadata": {
        "id": "iyzGKbmgCuU-"
      },
      "source": [
        "Aqui comprobamos que tenemos las mimas instancias que al principio, porque lo único que hemos hecho es eliminar dos atributos por lo tanto se muestran 63 y no 65."
      ]
    },
    {
      "cell_type": "markdown",
      "metadata": {
        "id": "GxCREAqZGCjV"
      },
      "source": [
        "# Datos innecesarios\n",
        "\n",
        "Después de todo el trabajo realizado para los datos que faltan y los valores atípicos, veamos los datos innecesarios, que son más sencillos.\n",
        "\n",
        "Todos los datos que se introducen en el modelo deberían servir para el propósito del proyecto. \n",
        "Los datos innecesarios son cuando los datos no añaden valor. \n",
        "\n",
        "Hay  tres tipos principales de datos innecesarios debido a diferentes razones."
      ]
    },
    {
      "cell_type": "markdown",
      "metadata": {
        "id": "8aRP-QlyGQtI"
      },
      "source": [
        "## Tipo innecesario 1: Desinformativo / Repetitivo\n",
        "\n",
        "A veces una característica no es informativa porque tiene demasiadas filas que tienen el mismo valor.\n",
        "\n",
        "**¿Cómo averiguarlo?**\n",
        "\n",
        "Podemos crear una lista de características con un alto porcentaje del mismo valor.\n",
        "\n",
        "Por ejemplo, especificamos a continuación para mostrar las características con más del 95% de filas que tienen el mismo valor."
      ]
    },
    {
      "cell_type": "code",
      "metadata": {
        "colab": {
          "base_uri": "https://localhost:8080/"
        },
        "id": "yFUXC8EFGd2c",
        "outputId": "00ecab54-df6e-4b7f-c1c3-565eeedfa95a"
      },
      "source": [
        "num_rows = len(df.index)\n",
        "low_information_cols = [] #\n",
        "\n",
        "for col in df.columns:\n",
        "    cnts = df[col].value_counts(dropna=False)\n",
        "    top_pct = (cnts/num_rows).iloc[0]\n",
        "    \n",
        "    if top_pct > 0.95:\n",
        "        low_information_cols.append(col)\n",
        "        print('{0}: {1:.5f}%'.format(col, top_pct*100))\n",
        "        print(cnts)\n",
        "        print()"
      ],
      "execution_count": 10,
      "outputs": [
        {
          "output_type": "stream",
          "name": "stdout",
          "text": [
            "ACCIDENT_STATUS: 97.74164%\n",
            "Finished            73619\n",
            "Private Property     1216\n",
            "Unfinished            447\n",
            "Discarded              20\n",
            "Reopened               18\n",
            "Name: ACCIDENT_STATUS, dtype: int64\n",
            "\n",
            "FATALITY: 97.91158%\n",
            "0    73747\n",
            "1     1501\n",
            "2       62\n",
            "3        7\n",
            "4        2\n",
            "6        1\n",
            "Name: FATALITY, dtype: int64\n",
            "\n",
            "PILLION: 99.46628%\n",
            "0    74918\n",
            "1      397\n",
            "2        5\n",
            "Name: PILLION, dtype: int64\n",
            "\n",
            "UNKNOWN: 95.47265%\n",
            "0     71910\n",
            "1      2935\n",
            "2       365\n",
            "3        66\n",
            "4        23\n",
            "6         6\n",
            "5         4\n",
            "8         2\n",
            "7         2\n",
            "52        1\n",
            "49        1\n",
            "36        1\n",
            "19        1\n",
            "13        1\n",
            "11        1\n",
            "10        1\n",
            "Name: UNKNOWN, dtype: int64\n",
            "\n",
            "PED_CYCLIST_5_12: 99.12772%\n",
            "0    74663\n",
            "1      635\n",
            "2       18\n",
            "3        3\n",
            "8        1\n",
            "Name: PED_CYCLIST_5_12, dtype: int64\n",
            "\n",
            "PED_CYCLIST_13_18: 98.50637%\n",
            "0    74195\n",
            "1     1097\n",
            "2       24\n",
            "4        2\n",
            "5        1\n",
            "3        1\n",
            "Name: PED_CYCLIST_13_18, dtype: int64\n",
            "\n",
            "OLD_PEDESTRIAN: 97.70844%\n",
            "0    73594\n",
            "1     1677\n",
            "2       48\n",
            "3        1\n",
            "Name: OLD_PEDESTRIAN, dtype: int64\n",
            "\n",
            "ALCOHOL_RELATED: 97.00478%\n",
            "No     73064\n",
            "Yes     2256\n",
            "Name: ALCOHOL_RELATED, dtype: int64\n",
            "\n",
            "UNLICENCSED: 96.50690%\n",
            "0    72689\n",
            "1     2613\n",
            "2       18\n",
            "Name: UNLICENCSED, dtype: int64\n",
            "\n",
            "HEAVYVEHICLE: 95.57886%\n",
            "0.0    71990\n",
            "1.0     3143\n",
            "2.0      167\n",
            "3.0       10\n",
            "NaN        8\n",
            "4.0        2\n",
            "Name: HEAVYVEHICLE, dtype: int64\n",
            "\n",
            "PUBLICVEHICLE: 98.79448%\n",
            "0.0    74412\n",
            "1.0      890\n",
            "2.0       10\n",
            "NaN        8\n",
            "Name: PUBLICVEHICLE, dtype: int64\n",
            "\n"
          ]
        }
      ]
    },
    {
      "cell_type": "markdown",
      "metadata": {
        "id": "O-ubfZd_Gnyd"
      },
      "source": [
        "Podemos examinar estas variables una por una para ver si son informativas o no. \n",
        "\n",
        "**¿Qué hacer?**\n",
        "\n",
        "Necesitamos entender las razones detrás de la característica repetitiva. Cuando son genuinamente desinformativas, podemos descartarlas en este caso nuestras caracteristicas son informativas ya que los valores que se estan repitiendo de hecho hacen parte del dataset para dar la informacion necesaria del estudio.\n",
        "\n"
      ]
    },
    {
      "cell_type": "markdown",
      "metadata": {
        "id": "dofEAqiVHNKj"
      },
      "source": [
        "## Tipo innecesario 2: Duplicados\n",
        "\n",
        "Los datos duplicados son cuando existen copias de la misma observación.\n",
        "Hay dos tipos principales de datos duplicados."
      ]
    },
    {
      "cell_type": "code",
      "source": [
        "cols_to_drop = ['SRNS','SRNS_ALL','VICGRID_X','VICGRID_Y','DEG_URBAN_ALL','DIVIDED','DIVIDED_ALL']\n",
        "df_caracteristicas = df.drop(cols_to_drop, axis=1)\n",
        "print(df_caracteristicas.shape)"
      ],
      "metadata": {
        "colab": {
          "base_uri": "https://localhost:8080/"
        },
        "id": "mZWxuIO8UXY6",
        "outputId": "1dbabe55-845a-49fe-9704-42d4afb6e092"
      },
      "execution_count": 23,
      "outputs": [
        {
          "output_type": "stream",
          "name": "stdout",
          "text": [
            "(75320, 59)\n"
          ]
        }
      ]
    },
    {
      "cell_type": "markdown",
      "source": [
        "En este apartado podemos apreciar la diferencia de caracteristicas que teniamos al principio del dataset de **65** caracteristicas hemos disminuido ha **58** y aun asi no hemos considerado ciertas variables que han podido ser removidas del dataset pero he decidido dejarlas para los estudios futuros o estudios mas especificos."
      ],
      "metadata": {
        "id": "oWbHJ52Qaang"
      }
    },
    {
      "cell_type": "markdown",
      "metadata": {
        "id": "WfY62rtKIAY2"
      },
      "source": [
        "### TRANSFORMACION DE DATOS\n",
        "\n",
        "**¿Cómo hacerlo?**\n",
        "\n",
        "A veces es mejor transformar ciertos datos para que sea mas facil analizarlos y poder realizar los algoritmos pertinentes.\n",
        "\n",
        "Por ejemplo, una de las caracteristicas que queremos analizar es \"ACCIDENT_TIME\" la cual me da la hora del accidente pero hemos notado que quienes han hecho la insercion de datos no ingresaron la fecha adecuada en el csv file se puede apreciar que los valores ingresados son erroneos ya que se registran como *1899/12/30* y solamente la hora es correcta por lo cual hemos extraido la hora y luego hemos reemplazado esa nueva columna con esa hora extraida\n",
        "\n"
      ]
    },
    {
      "cell_type": "code",
      "metadata": {
        "colab": {
          "base_uri": "https://localhost:8080/"
        },
        "id": "0UGB0VzEIQAZ",
        "outputId": "d3c0ce61-9789-4dd7-8bf6-dd09acbd5e41"
      },
      "source": [
        "date_time = df['ACCIDENT_TIME']\n",
        "type(date_time[0])\n",
        "\n",
        "\n",
        "date_time\n",
        "hora = date_time.str.extract('((?:[01]\\d|2[0-3]):[0-5]\\d:[0-5]\\d)')\n",
        "df['ACCIDENT_HOUR'] = hora\n",
        "df['ACCIDENT_TIME'] = df['ACCIDENT_HOUR'].values\n",
        "print(df['ACCIDENT_TIME'])"
      ],
      "execution_count": 22,
      "outputs": [
        {
          "output_type": "stream",
          "name": "stdout",
          "text": [
            "0        07:00:00\n",
            "1        09:55:00\n",
            "2        21:50:00\n",
            "3        06:00:00\n",
            "4        15:50:00\n",
            "           ...   \n",
            "75315    13:00:00\n",
            "75316    17:30:00\n",
            "75317    15:30:00\n",
            "75318    08:50:00\n",
            "75319    12:15:00\n",
            "Name: ACCIDENT_TIME, Length: 75320, dtype: object\n"
          ]
        }
      ]
    },
    {
      "cell_type": "markdown",
      "source": [
        "Como podemos ver anteriormente hemos reemplazado la caracteristica con el nuevo valor \n"
      ],
      "metadata": {
        "id": "K4vSZQdFxtRo"
      }
    },
    {
      "cell_type": "markdown",
      "source": [
        "###INFORMACION ADICIONAL\n",
        "\n",
        "1. Acontinuacion vamos a encontrar la moda en las siguientes caracteristicas:\n",
        "\n",
        "*DAY_OF_WEEK* la moda permite conocer el dia donde se han producido mas accidentes\n",
        "\n",
        "*REGION_NAME* el valor de la moda nos dira en que parte de Victoria, Australia se presentan mas accidentes \n"
      ],
      "metadata": {
        "id": "ykIhWPhT7_fz"
      }
    },
    {
      "cell_type": "code",
      "source": [
        "Moda_dia_semana = df['DAY_OF_WEEK'].mode()\n",
        "Moda_region = df['REGION_NAME'].mode()\n",
        "print(\"El dia donde se producen mas accidentes es:\",Moda_dia_semana[0])\n",
        "print(\"la region donde se producen mas accidentes es:\",Moda_region[0])\n",
        "\n"
      ],
      "metadata": {
        "colab": {
          "base_uri": "https://localhost:8080/"
        },
        "id": "I-oJrS8W68o1",
        "outputId": "70810e7c-69c7-4199-db7d-f8f7e65a201f"
      },
      "execution_count": 13,
      "outputs": [
        {
          "output_type": "stream",
          "name": "stdout",
          "text": [
            "El dia donde se producen mas accidentes es: Friday\n",
            "la region donde se producen mas accidentes es: METROPOLITAN SOUTH EAST REGION\n"
          ]
        }
      ]
    },
    {
      "cell_type": "markdown",
      "source": [
        "Despues de haber calculado la moda para estas dos caracteristicas podemos encontrar que el dia donde se producen mas accidentes es **FRIDAY** con esta informacion podemos brindar ese conocimiento extraido del dataset para brindar un analisis y proporner soluciones como implementar un nuevo limite de velocidad los dias viernes en las autopistas mas concurridas o en las region donde se producen mas accidentes que tambien ha sido calculada mediante la caracteristica **REGION_NAME** y esta region seria *METROPOLITAN SOUTH EAST REGION* "
      ],
      "metadata": {
        "id": "kYvZyY8gWOik"
      }
    },
    {
      "cell_type": "markdown",
      "source": [
        "2. Numero total de accidentes fatales en los ultimos cinco a;os para encontrar este valor vamos a usar la caracteristica *FATALITY* y hacer una sumatoria de los valores de los records ingresados"
      ],
      "metadata": {
        "id": "P9_62JKI9Qtm"
      }
    },
    {
      "cell_type": "code",
      "source": [
        "Numero_total_muertos = df['FATALITY'].sum()\n",
        "print(\"El numero total de accidentes fatales es:\",Numero_total_muertos)"
      ],
      "metadata": {
        "colab": {
          "base_uri": "https://localhost:8080/"
        },
        "id": "MzcQ9h3f-Cw-",
        "outputId": "017613eb-4b64-48b8-870f-f1cf20a10f01"
      },
      "execution_count": 14,
      "outputs": [
        {
          "output_type": "stream",
          "name": "stdout",
          "text": [
            "El numero total de accidentes fatales es: 1660\n"
          ]
        }
      ]
    },
    {
      "cell_type": "markdown",
      "source": [
        "3. En esta seccion vamos a mostrar los numeros totales de accidentes que involucraron alcohol para esto en el dataset una de las caracteristicas llamada *ALCOHOLTIME* ha sido ingresada con dos valores *Yes* y *No* mediente un ciclo for y un conteo podemos encontrar dichos valores tanto para accidentes con alcohol como para accidentes sin alcohol."
      ],
      "metadata": {
        "id": "oroM8tn_9zHv"
      }
    },
    {
      "cell_type": "code",
      "source": [
        "conteo=0\n",
        "conteon=0\n",
        "for col in df['ALCOHOLTIME']:\n",
        "    if col == \"Yes\":\n",
        "      conteo = 1+conteo\n",
        "    else: conteon = 1+conteon\n",
        "alcohol = round((conteo/(conteo+conteon))*100,2)\n",
        "sinalcohol = round((conteon/(conteo+conteon))*100,2)\n",
        "print(\"El numero de accidentes que involucraron alcoho son:\",conteo)\n",
        "print(\"El numero de accidentes que no involucraron alcohol son:\",conteon)\n",
        "print(\"Numero Total de Accidentes:\",(conteo+conteon))\n",
        "print(\"Porcentaje de accidentes relacionados con alcohol:\",alcohol,'%')\n",
        "print(\"Porcentaje de accidentes  no relacionados con alcohol:\",sinalcohol,'%')\n"
      ],
      "metadata": {
        "colab": {
          "base_uri": "https://localhost:8080/"
        },
        "id": "ErvSujBJ_KG5",
        "outputId": "49dc5320-f419-4026-fa94-c801464ac64c"
      },
      "execution_count": 20,
      "outputs": [
        {
          "output_type": "stream",
          "name": "stdout",
          "text": [
            "El numero de accidentes que involucraron alcoho son: 26605\n",
            "El numero de accidentes que no involucraron alcohol son: 48715\n",
            "Numero Total de Accidentes: 75320\n",
            "Porcentaje de accidentes relacionados con alcohol: 35.32 %\n",
            "Porcentaje de accidentes  no relacionados con alcohol: 64.68 %\n"
          ]
        }
      ]
    },
    {
      "cell_type": "markdown",
      "source": [
        "Despues de analizar esta caracteristica podemos apreciar que aun ocurren una cantidad elevada de accidentes con alcohol involucrado aproximadamente un 35.32% por lo tanto se deben incluir algunas recomendaciones para que el publico no consuma alcohol si va a manejar tal vez anuncion mas repetitivos por television."
      ],
      "metadata": {
        "id": "5hyy-98VXrhD"
      }
    }
  ]
}